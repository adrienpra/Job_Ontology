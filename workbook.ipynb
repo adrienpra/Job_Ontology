{
 "cells": [
  {
   "cell_type": "code",
   "execution_count": 6,
   "id": "a880c41e",
   "metadata": {},
   "outputs": [
    {
     "name": "stdout",
     "output_type": "stream",
     "text": [
      "[(['data_iw', 'data_iw'], [['arc_iw'], ['arc_iw']], ['label_iw', 'label_iw'])]\n",
      "[(['data_bl', 'data_bl'], [['arc_bl'], ['arc_bl']], ['label_bl', 'label_bl'])]\n"
     ]
    }
   ],
   "source": [
    "result_iw = [([\"data_iw\",\"data_iw\"], [[\"arc_iw\"],[\"arc_iw\"]], [\"label_iw\", \"label_iw\"])]\n",
    "result_bl = [([\"data_bl\",\"data_bl\"], [[\"arc_bl\"],[\"arc_bl\"]], [\"label_bl\", \"label_bl\"])]\n",
    "\n",
    "print(result_iw)\n",
    "print(result_bl)"
   ]
  },
  {
   "cell_type": "code",
   "execution_count": 7,
   "id": "e5f52e3d",
   "metadata": {},
   "outputs": [
    {
     "name": "stdout",
     "output_type": "stream",
     "text": [
      "[(['data_iw', 'data_iw'], [['arc_iw'], ['arc_iw']], ['label_iw', 'label_iw']), (['data_bl', 'data_bl'], [['arc_bl'], ['arc_bl']], ['label_bl', 'label_bl'])]\n"
     ]
    }
   ],
   "source": [
    "result = result_iw + result_bl\n",
    "\n",
    "print(result)"
   ]
  }
 ],
 "metadata": {
  "kernelspec": {
   "display_name": "Python 3 (ipykernel)",
   "language": "python",
   "name": "python3"
  },
  "language_info": {
   "codemirror_mode": {
    "name": "ipython",
    "version": 3
   },
   "file_extension": ".py",
   "mimetype": "text/x-python",
   "name": "python",
   "nbconvert_exporter": "python",
   "pygments_lexer": "ipython3",
   "version": "3.9.7"
  },
  "vscode": {
   "interpreter": {
    "hash": "9602d58d7cb175fdf66c5864285249d60055100b0d84cf15fca1d61517593d37"
   }
  }
 },
 "nbformat": 4,
 "nbformat_minor": 5
}

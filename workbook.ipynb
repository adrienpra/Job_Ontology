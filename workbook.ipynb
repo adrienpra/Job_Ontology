{
 "cells": [
  {
   "cell_type": "code",
   "execution_count": 34,
   "id": "e5f52e3d",
   "metadata": {},
   "outputs": [
    {
     "name": "stdout",
     "output_type": "stream",
     "text": [
      "['', '', '', '', '', '', '', '', '', '', '', '', '', '', '', '', '', '', '', '', '', '', '', '', '', '', '', '', '', '', '', '', '', '', '', '', '', '', '', '', '', '', '', '', '', '', '', '', '', '', '', '', '', '', '', '', '', '', '', '', '', '', '', '', '', '', '', '', '', '', '', '', '', '', '', '', '', '', '', '', '', '', '', '', '', '', '', '', '', '', '', '', '', '', '', '', '', '']\n"
     ]
    }
   ],
   "source": [
    "import networkx as nx\n",
    "import numpy as np\n",
    "\n",
    "filename = 'input.net'\n",
    "\n",
    "G = nx.read_pajek(filename, encoding='utf-8')\n",
    "df = nx.to_pandas_edgelist(G)\n",
    "\n",
    "data2 = list(df['source']) + list(df['target'])\n",
    "data = list(set(data2))\n",
    "\n",
    "arc= []\n",
    "\n",
    "for i in range(len(df)):\n",
    "    arc.append([data.index(df.iloc[i][0]), data.index(df.iloc[i][1]), df.iloc[i][2]])\n",
    "\n",
    "labels = []\n",
    "for i in range(len(data)):\n",
    "    labels.append('')\n",
    "\n",
    "data = [i.replace(\"%27\", \"'\") for i in data]\n",
    "\n",
    "#return data, np.array(arc).astype(np.float32), label (mettre label)"
   ]
  },
  {
   "cell_type": "code",
   "execution_count": null,
   "id": "48f64899",
   "metadata": {},
   "outputs": [
    {
     "name": "stdout",
     "output_type": "stream",
     "text": [
      "test%27.py\n"
     ]
    }
   ],
   "source": [
    "test = \"test'.py\"\n",
    "test = test.replace(\"'\", \"%27\")\n",
    "print(test)"
   ]
  },
  {
   "cell_type": "code",
   "execution_count": null,
   "id": "f1d08c92",
   "metadata": {},
   "outputs": [
    {
     "name": "stdout",
     "output_type": "stream",
     "text": [
      "Hello\n"
     ]
    }
   ],
   "source": [
    "msg = \"Hell'o\"\n",
    "print(msg.replace(\"'\", \"\"))"
   ]
  },
  {
   "cell_type": "code",
   "execution_count": null,
   "id": "061e2ec3",
   "metadata": {},
   "outputs": [],
   "source": []
  }
 ],
 "metadata": {
  "kernelspec": {
   "display_name": "Python 3 (ipykernel)",
   "language": "python",
   "name": "python3"
  },
  "language_info": {
   "codemirror_mode": {
    "name": "ipython",
    "version": 3
   },
   "file_extension": ".py",
   "mimetype": "text/x-python",
   "name": "python",
   "nbconvert_exporter": "python",
   "pygments_lexer": "ipython3",
   "version": "3.9.7"
  },
  "vscode": {
   "interpreter": {
    "hash": "9602d58d7cb175fdf66c5864285249d60055100b0d84cf15fca1d61517593d37"
   }
  }
 },
 "nbformat": 4,
 "nbformat_minor": 5
}

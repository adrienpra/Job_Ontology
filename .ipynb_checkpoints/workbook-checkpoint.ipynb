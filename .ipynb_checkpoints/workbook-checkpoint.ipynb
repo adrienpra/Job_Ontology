{
 "cells": [
  {
   "cell_type": "code",
   "execution_count": 21,
   "id": "e5f52e3d",
   "metadata": {},
   "outputs": [
    {
     "name": "stdout",
     "output_type": "stream",
     "text": [
      "                         source                        target  weight\n",
      "0              Von_Mises_yerion  Degreees_of_%27m_(mechanics)     1.0\n",
      "1  Degreees_of_%27m_(mechanics)              Von_Mises_yerion     1.0\n"
     ]
    }
   ],
   "source": [
    "import networkx as nx\n",
    "\n",
    "G = nx.path_graph(4)\n",
    "nx.write_pajek(G, \"test.net\")\n",
    "G = nx.read_pajek(\"input.net\", encoding='utf-8')\n",
    "\n",
    "df = nx.to_pandas_edgelist(G)\n",
    "print(df)"
   ]
  },
  {
   "cell_type": "code",
   "execution_count": 23,
   "id": "6ba1080d",
   "metadata": {},
   "outputs": [
    {
     "name": "stdout",
     "output_type": "stream",
     "text": [
      "test'.py\n"
     ]
    }
   ],
   "source": [
    "test = \"test'.py\"\n",
    "test.replace(\"'\", \"\")\n",
    "print(test)"
   ]
  },
  {
   "cell_type": "code",
   "execution_count": null,
   "id": "82a05ac3",
   "metadata": {},
   "outputs": [],
   "source": []
  },
  {
   "cell_type": "code",
   "execution_count": null,
   "id": "ea6ca7f2",
   "metadata": {},
   "outputs": [],
   "source": []
  }
 ],
 "metadata": {
  "kernelspec": {
   "display_name": "Python 3 (ipykernel)",
   "language": "python",
   "name": "python3"
  },
  "language_info": {
   "codemirror_mode": {
    "name": "ipython",
    "version": 3
   },
   "file_extension": ".py",
   "mimetype": "text/x-python",
   "name": "python",
   "nbconvert_exporter": "python",
   "pygments_lexer": "ipython3",
   "version": "3.9.7"
  },
  "vscode": {
   "interpreter": {
    "hash": "9602d58d7cb175fdf66c5864285249d60055100b0d84cf15fca1d61517593d37"
   }
  }
 },
 "nbformat": 4,
 "nbformat_minor": 5
}
